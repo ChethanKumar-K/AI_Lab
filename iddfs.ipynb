{
  "nbformat": 4,
  "nbformat_minor": 0,
  "metadata": {
    "colab": {
      "provenance": [],
      "toc_visible": true
    },
    "kernelspec": {
      "name": "python3",
      "display_name": "Python 3"
    },
    "language_info": {
      "name": "python"
    }
  },
  "cells": [
    {
      "cell_type": "code",
      "execution_count": null,
      "metadata": {
        "id": "mn3mmTvku_uA"
      },
      "outputs": [],
      "source": [
        "def dfs(src,target,limit,visited_states):\n",
        "  if src == target:\n",
        "    return True\n",
        "  if limit <= 0:\n",
        "    return False\n",
        "  \n",
        "  visited_states.append(src)\n",
        "  moves = possible_moves(src,visited_states)\n",
        "\n",
        "  for move in moves:\n",
        "    if dfs(move,target,limit - 1,visited_states):\n",
        "      return True\n",
        "  return False"
      ]
    },
    {
      "cell_type": "code",
      "source": [
        "def possible_moves(state,visited_states):\n",
        "  b = state.index(-1)\n",
        "  d = []\n",
        "  if b not in [0,1,2]:\n",
        "    d += 'u'\n",
        "  if b not in [6,7,8]:\n",
        "    d += 'd'\n",
        "  if b not in [2,5,8]:\n",
        "    d += 'r'\n",
        "  if b not in [0,3,6]:\n",
        "    d += 'l'\n",
        "  pos_moves = []\n",
        "\n",
        "  for move in d:\n",
        "    pos_moves.append(gen(state,move,b))\n",
        "\n",
        "  return [move for move in pos_moves if move not in visited_states]"
      ],
      "metadata": {
        "id": "k8JjJVrly0e_"
      },
      "execution_count": null,
      "outputs": []
    },
    {
      "cell_type": "code",
      "source": [
        "def gen(state,move,blank):\n",
        "  temp = state.copy()\n",
        "  if move == 'u':\n",
        "    temp[blank-3],temp[blank] = temp[blank],temp[blank-3]\n",
        "  if move == 'd':\n",
        "    temp[blank+3],temp[blank] = temp[blank],temp[blank+3]\n",
        "  if move == 'r':\n",
        "    temp[blank+1],temp[blank] = temp[blank],temp[blank+1]\n",
        "  if move == 'l':\n",
        "    temp[blank-1],temp[blank] = temp[blank],temp[blank-1]\n",
        "  return temp"
      ],
      "metadata": {
        "id": "dblAIZuYzeUn"
      },
      "execution_count": null,
      "outputs": []
    },
    {
      "cell_type": "code",
      "source": [
        "def iddfs(src,target,depth):\n",
        "  for i in range(depth):\n",
        "    visited_states = []\n",
        "    if dfs(src,target,i+1,visited_states):\n",
        "      return True\n",
        "  return False"
      ],
      "metadata": {
        "id": "BVeZAh3m0JVv"
      },
      "execution_count": null,
      "outputs": []
    },
    {
      "cell_type": "code",
      "source": [
        "src = [3,5,2,8,7,6,4,1,-1]\n",
        "target = [-1,3,7,8,1,5,4,6,2]\n",
        "\n",
        "for i in range(1, 100):\n",
        "    val = iddfs(src,target,i)\n",
        "    print(i, val)\n",
        "    if val == True:\n",
        "        break\n"
      ],
      "metadata": {
        "colab": {
          "base_uri": "https://localhost:8080/"
        },
        "id": "3sqo-4XM0wdu",
        "outputId": "3af6cb68-36f6-4941-f1a2-3870ec2d1ef1"
      },
      "execution_count": null,
      "outputs": [
        {
          "output_type": "stream",
          "name": "stdout",
          "text": [
            "1 False\n",
            "2 False\n",
            "3 False\n",
            "4 False\n",
            "5 False\n",
            "6 False\n",
            "7 False\n",
            "8 False\n",
            "9 False\n",
            "10 True\n"
          ]
        }
      ]
    }
  ]
}